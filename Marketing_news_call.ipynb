{
  "nbformat": 4,
  "nbformat_minor": 0,
  "metadata": {
    "colab": {
      "provenance": [],
      "toc_visible": true,
      "authorship_tag": "ABX9TyPiCVeLBfhzpuPTcb776+vq"
    },
    "kernelspec": {
      "name": "python3",
      "display_name": "Python 3"
    },
    "language_info": {
      "name": "python"
    }
  },
  "cells": [
    {
      "cell_type": "code",
      "execution_count": null,
      "metadata": {
        "id": "9MHWBGe5CKTf"
      },
      "outputs": [],
      "source": [
        "!pip install langchain langchain-google-genai tavily-python brevo-python python-dotenv\n",
        "!pip install langchain-community\n"
      ]
    },
    {
      "cell_type": "code",
      "source": [
        "#import libraries\n",
        "import os\n",
        "from dotenv import load_dotenv\n",
        "import ast  # Abstract Syntax Tree library to safely evaluate strings\n",
        "from langchain_google_genai import ChatGoogleGenerativeAI\n",
        "from langchain.agents import AgentExecutor, create_react_agent\n",
        "from langchain import hub\n",
        "from langchain.tools import tool\n",
        "import brevo_python\n",
        "from brevo_python.rest import ApiException\n",
        "from langchain_community.tools.tavily_search import TavilySearchResults\n",
        "from google.colab import userdata\n",
        "\n",
        "# --- 1. SETUP: LOAD ENVIRONMENT VARIABLES ---\n",
        "#set user key from colab secret manager.\n",
        "os.environ['GOOGLE_API_KEY'] = userdata.get('GOOGLE_API_KEY')\n",
        "os.environ['TAVILY_API_KEY'] = userdata.get('TAVILY_API_KEY')\n",
        "os.environ['BREVO_API_KEY'] = userdata.get('BREVO_API_KEY')"
      ],
      "metadata": {
        "id": "a25ghJqMCNBA"
      },
      "execution_count": 11,
      "outputs": []
    },
    {
      "cell_type": "code",
      "source": [
        "# --- 2. FUNCTION DEFINITIONS: DEFINE THE WORKFLOW STEPS ---\n",
        "\n",
        "def search_and_summarize_marketing_news():\n",
        "    \"\"\"\n",
        "    Searches for the latest marketing news and returns a cohesive summary.\n",
        "    \"\"\"\n",
        "    # Step 1: Search for the news\n",
        "    print(\"--- Searching for news... ---\")\n",
        "    tavily_tool = TavilySearchResults(max_results=7)\n",
        "    results = tavily_tool.invoke({\"query\": \"latest marketing news and trends\"})\n",
        "\n",
        "    # Step 2: Summarize the news with an LLM\n",
        "    print(\"--- Summarizing articles... ---\")\n",
        "    llm = ChatGoogleGenerativeAI(model=\"gemini-1.5-flash\", temperature=0)\n",
        "    article_text = \"\\n\\n\".join([f\"Article URL: {article['url']}\\nContent: {article['content']}\" for article in results])\n",
        "    prompt_template = f\"\"\"\n",
        "    You are an expert marketing analyst. Summarize the key trends, takeaways, and announcements\n",
        "    from the following marketing news articles. Structure the summary with clear headings for each topic.\n",
        "    For each key point, cite the source URL.\n",
        "\n",
        "    Here are the articles to summarize:\n",
        "    {article_text}\n",
        "\n",
        "    Final Summary:\n",
        "    \"\"\"\n",
        "    summary = llm.invoke(prompt_template)\n",
        "    return summary.content\n",
        "\n",
        "def send_summary_email(summary: str, recipient_email: str):\n",
        "    \"\"\"Sends an email with the news summary using the Brevo API.\"\"\"\n",
        "    print(f\"--- Preparing to send email to {recipient_email}... ---\")\n",
        "    configuration = brevo_python.Configuration()\n",
        "    configuration.api_key['api-key'] = os.getenv(\"BREVO_API_KEY\")\n",
        "    api_instance = brevo_python.TransactionalEmailsApi(brevo_python.ApiClient(configuration))\n",
        "\n",
        "    # IMPORTANT: Replace with your verified sender email from Brevo\n",
        "    sender_email = \"siangouweijoseph@gmail.com\"\n",
        "    subject = \"Your Weekly Marketing News Digest (from your AI Workflow)\"\n",
        "    sender = {\"name\": \"AI Marketing Assistant\", \"email\": sender_email}\n",
        "    to = [{\"email\": recipient_email}]\n",
        "    send_smtp_email = brevo_python.SendSmtpEmail(to=to, sender=sender, subject=subject, text_content=summary)\n",
        "\n",
        "    try:\n",
        "        api_instance.send_transac_email(send_smtp_email)\n",
        "        print(\"--- Email sent successfully! ---\")\n",
        "    except ApiException as e:\n",
        "        print(f\"--- Failed to send email. Error: {e} ---\")\n",
        "\n",
        "\n",
        "# --- 3. RUN THE WORKFLOW ---\n",
        "if __name__ == \"__main__\":\n",
        "    # IMPORTANT: Replace with your email address\n",
        "    your_email_address = \"siangouweijoseph@gmail.com\"\n",
        "\n",
        "    print(\"Starting the marketing news workflow...\")\n",
        "    # Step 1: Get the summary\n",
        "    news_summary = search_and_summarize_marketing_news()\n",
        "\n",
        "    # Step 2: Send the summary in an email\n",
        "    send_summary_email(summary=news_summary, recipient_email=your_email_address)\n",
        "\n",
        "    print(\"Workflow has finished its task.\")\n",
        "\n",
        "\n"
      ],
      "metadata": {
        "id": "Mt_MM--rCTFp"
      },
      "execution_count": null,
      "outputs": []
    }
  ]
}